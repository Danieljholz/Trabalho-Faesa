{
  "nbformat": 4,
  "nbformat_minor": 0,
  "metadata": {
    "colab": {
      "provenance": []
    },
    "kernelspec": {
      "name": "python3",
      "display_name": "Python 3"
    },
    "language_info": {
      "name": "python"
    }
  },
  "cells": [
    {
      "cell_type": "markdown",
      "source": [
        "### Extração dos Dados"
      ],
      "metadata": {
        "id": "MSdigc_nMA1z"
      }
    },
    {
      "cell_type": "code",
      "execution_count": null,
      "metadata": {
        "id": "u-b2hV8PtQeV",
        "colab": {
          "base_uri": "https://localhost:8080/"
        },
        "outputId": "1bf44d66-dcda-4d4d-9385-5594c790d7b5"
      },
      "outputs": [
        {
          "output_type": "stream",
          "name": "stdout",
          "text": [
            "Archive:  /content/house-prices-advanced-regression-techniques.zip\n",
            "  inflating: files/data_description.txt  \n",
            "  inflating: files/sample_submission.csv  \n",
            "  inflating: files/test.csv          \n",
            "  inflating: files/train.csv         \n"
          ]
        }
      ],
      "source": [
        "!unzip \"/content/house-prices-advanced-regression-techniques.zip\" -d \"files\""
      ]
    },
    {
      "cell_type": "markdown",
      "source": [
        "### Bibliotecas Usadas"
      ],
      "metadata": {
        "id": "nsOuYIikME-M"
      }
    },
    {
      "cell_type": "code",
      "source": [
        "import pandas as pd\n",
        "from sklearn.preprocessing import LabelEncoder\n",
        "from sklearn.model_selection import train_test_split\n",
        "from sklearn.linear_model import LinearRegression\n",
        "from sklearn.metrics import mean_absolute_error, mean_squared_error"
      ],
      "metadata": {
        "id": "6oNpjRZBtpeO"
      },
      "execution_count": 2,
      "outputs": []
    },
    {
      "cell_type": "markdown",
      "source": [
        "### AED"
      ],
      "metadata": {
        "id": "GELX5w0LMLSj"
      }
    },
    {
      "cell_type": "code",
      "source": [
        "dataset_treino = pd.read_csv(\"files/train.csv\")"
      ],
      "metadata": {
        "id": "FXezps7MAPKS"
      },
      "execution_count": 3,
      "outputs": []
    },
    {
      "cell_type": "code",
      "source": [
        "dataset_treino = dataset_treino.drop(\"Id\", axis=1)\n",
        "\n",
        "total_valores_nulos = dataset_treino.isnull().sum()\n",
        "porcentagem = (total_valores_nulos / dataset_treino.shape[0]) * 100\n",
        "\n",
        "colunas_extrapolantes = dataset_treino.columns[porcentagem > 10]\n",
        "dataset_treino = dataset_treino.drop(colunas_extrapolantes, axis=1)"
      ],
      "metadata": {
        "id": "x5BNYPAqA6nD"
      },
      "execution_count": 4,
      "outputs": []
    },
    {
      "cell_type": "code",
      "source": [
        "dataset_teste = pd.read_csv(\"files/test.csv\")"
      ],
      "metadata": {
        "id": "57fFgrIuOUYZ"
      },
      "execution_count": 5,
      "outputs": []
    },
    {
      "cell_type": "code",
      "source": [
        "dataset_teste2 = dataset_teste.drop(\"Id\", axis=1)\n",
        "\n",
        "total_valores_nulos = dataset_teste2.isnull().sum()\n",
        "porcentagem = (total_valores_nulos / dataset_teste2.shape[0]) * 100\n",
        "\n",
        "colunas_extrapolantes = dataset_teste2.columns[porcentagem > 10]\n",
        "dataset_teste2 = dataset_teste2.drop(colunas_extrapolantes, axis=1)"
      ],
      "metadata": {
        "id": "N72XADV8ObN8"
      },
      "execution_count": 6,
      "outputs": []
    },
    {
      "cell_type": "markdown",
      "source": [
        "### Feature Engineering"
      ],
      "metadata": {
        "id": "vxD5tmjZMRuC"
      }
    },
    {
      "cell_type": "code",
      "source": [
        "# Dataset de Treino\n",
        "\n",
        "colunas_categoricas = dataset_treino.columns[dataset_treino.dtypes == \"object\"]\n",
        "\n",
        "label_encoder = LabelEncoder()\n",
        "\n",
        "for coluna in colunas_categoricas:\n",
        "    dataset_treino[coluna] = label_encoder.fit_transform(dataset_treino[coluna])\n",
        "\n",
        "dataset_treino = dataset_treino.fillna(-1)"
      ],
      "metadata": {
        "id": "IaPJLD6sFInN"
      },
      "execution_count": 7,
      "outputs": []
    },
    {
      "cell_type": "code",
      "source": [
        "# Dataset de Testes\n",
        "\n",
        "colunas_categoricas = dataset_teste2.columns[dataset_teste2.dtypes == \"object\"]\n",
        "\n",
        "label_encoder = LabelEncoder()\n",
        "\n",
        "for coluna in colunas_categoricas:\n",
        "    dataset_teste2[coluna] = label_encoder.fit_transform(dataset_teste2[coluna])\n",
        "\n",
        "dataset_teste2 = dataset_teste2.fillna(-1)"
      ],
      "metadata": {
        "id": "FiN_ueFSPLUw"
      },
      "execution_count": 8,
      "outputs": []
    },
    {
      "cell_type": "markdown",
      "source": [
        "### Aprendizagem Supervisionada"
      ],
      "metadata": {
        "id": "CvT7LK4Lj5bB"
      }
    },
    {
      "cell_type": "code",
      "source": [
        "# Treino do Modelo de Regressão Linear\n",
        "X = dataset_treino.drop(\"SalePrice\", axis=1)\n",
        "y = dataset_treino[\"SalePrice\"]"
      ],
      "metadata": {
        "id": "cXZCYE4oj_a6"
      },
      "execution_count": 9,
      "outputs": []
    },
    {
      "cell_type": "code",
      "source": [
        "X_train, X_test, y_train, y_test = train_test_split(X, y, test_size=0.20, random_state=42)\n",
        "\n",
        "modelo_regressao_linear = LinearRegression().fit(X_train, y_train)\n",
        "\n",
        "previsao = modelo_regressao_linear.predict(X_test)\n",
        "\n",
        "print(f\"MAE: {mean_absolute_error(y_test, previsao):.2f}\")\n",
        "print(f\"MSE: {mean_squared_error(y_test, previsao):.2f}\")"
      ],
      "metadata": {
        "id": "_-lRwx00LddF",
        "colab": {
          "base_uri": "https://localhost:8080/"
        },
        "outputId": "b6221607-7460-46be-8d4a-fd00017329bd"
      },
      "execution_count": 10,
      "outputs": [
        {
          "output_type": "stream",
          "name": "stdout",
          "text": [
            "MAE: 21069.44\n",
            "MSE: 1126507405.52\n"
          ]
        }
      ]
    },
    {
      "cell_type": "code",
      "source": [
        "# Prevendo para o Dataset de Teste\n",
        "previsao_teste = modelo_regressao_linear.predict(dataset_teste2)\n",
        "dataset_teste[\"SalePrice\"] = previsao_teste"
      ],
      "metadata": {
        "id": "RpM45RVQPl_V"
      },
      "execution_count": 11,
      "outputs": []
    },
    {
      "cell_type": "markdown",
      "source": [
        "### Aprendizagem Não Supervisionada"
      ],
      "metadata": {
        "id": "jnMmxwPmvWQo"
      }
    },
    {
      "cell_type": "code",
      "source": [
        "from sklearn.preprocessing import StandardScaler\n",
        "from sklearn.cluster import KMeans\n",
        "from sklearn.metrics import silhouette_score\n",
        "\n",
        "colunas = dataset_teste2.columns\n",
        "\n",
        "data = pd.get_dummies(dataset_teste2, columns=colunas)\n",
        "\n",
        "scaler = StandardScaler()\n",
        "scaled_data = scaler.fit_transform(data)\n",
        "\n",
        "kmeans = KMeans(n_clusters=3, random_state=42)\n",
        "kmeans.fit(scaled_data)\n",
        "\n",
        "data['Cluster'] = kmeans.labels_\n",
        "\n",
        "score = silhouette_score(scaled_data, kmeans.labels_)\n",
        "print(f'Silhouette Score: {score}')"
      ],
      "metadata": {
        "id": "SRxqpiWiVtRa"
      },
      "execution_count": null,
      "outputs": []
    },
    {
      "cell_type": "code",
      "source": [
        "from sklearn.decomposition import PCA\n",
        "\n",
        "pca = PCA(n_components=2)\n",
        "principal_components = pca.fit_transform(scaled_data)\n",
        "pc_df = pd.DataFrame(data=principal_components, columns=['PC1', 'PC2'])\n",
        "pc_df['Cluster'] = kmeans.labels_"
      ],
      "metadata": {
        "id": "XflW0ys2cYIS"
      },
      "execution_count": 16,
      "outputs": []
    },
    {
      "cell_type": "code",
      "source": [
        "from mlxtend.frequent_patterns import apriori, association_rules\n",
        "\n",
        "binary_data = data.copy()\n",
        "binary_data = binary_data.applymap(lambda x: 1 if x > 0 else 0)\n",
        "\n",
        "frequent_itemsets = apriori(binary_data, min_support=0.8, use_colnames=True)\n",
        "rules = association_rules(frequent_itemsets, metric=\"confidence\", min_threshold=0.8)\n",
        "\n",
        "print(rules)"
      ],
      "metadata": {
        "colab": {
          "base_uri": "https://localhost:8080/"
        },
        "id": "KHWl3lsscnSg",
        "outputId": "862ad3df-d91d-483c-abe8-c7a3d0fc1cc4"
      },
      "execution_count": 17,
      "outputs": [
        {
          "output_type": "stream",
          "name": "stderr",
          "text": [
            "/usr/local/lib/python3.10/dist-packages/mlxtend/frequent_patterns/fpcommon.py:110: DeprecationWarning: DataFrames with non-bool types result in worse computationalperformance and their support might be discontinued in the future.Please use a DataFrame with bool type\n",
            "  warnings.warn(\n"
          ]
        },
        {
          "output_type": "stream",
          "name": "stdout",
          "text": [
            "             antecedents                                        consequents  \\\n",
            "0        (LandContour_3)                                         (Street_1)   \n",
            "1             (Street_1)                                    (LandContour_3)   \n",
            "2          (Utilities_0)                                         (Street_1)   \n",
            "3             (Street_1)                                      (Utilities_0)   \n",
            "4          (LandSlope_0)                                         (Street_1)   \n",
            "...                  ...                                                ...   \n",
            "5724775   (GarageCond_4)  (MiscVal_0, Condition2_2, Heating_0, GarageQua...   \n",
            "5724776     (PoolArea_0)  (MiscVal_0, Condition2_2, Heating_0, GarageQua...   \n",
            "5724777     (RoofMatl_0)  (MiscVal_0, Condition2_2, Heating_0, GarageQua...   \n",
            "5724778    (3SsnPorch_0)  (MiscVal_0, Condition2_2, Heating_0, GarageQua...   \n",
            "5724779       (Street_1)  (MiscVal_0, Condition2_2, Heating_0, GarageQua...   \n",
            "\n",
            "         antecedent support  consequent support   support  confidence  \\\n",
            "0                  0.898561            0.995888  0.895819    0.996949   \n",
            "1                  0.995888            0.898561  0.895819    0.899518   \n",
            "2                  0.998629            0.995888  0.995202    0.996568   \n",
            "3                  0.995888            0.998629  0.995202    0.999312   \n",
            "4                  0.956820            0.995888  0.952707    0.995702   \n",
            "...                     ...                 ...       ...         ...   \n",
            "5724775            0.910212            0.814942  0.802605    0.881777   \n",
            "5724776            0.995888            0.806032  0.802605    0.805919   \n",
            "5724777            0.988348            0.810144  0.802605    0.812067   \n",
            "5724778            0.991090            0.808773  0.802605    0.809820   \n",
            "5724779            0.995888            0.804661  0.802605    0.805919   \n",
            "\n",
            "             lift  leverage  conviction  zhangs_metric  \n",
            "0        1.001066  0.000954    1.347841       0.010494  \n",
            "1        1.001066  0.000954    1.009530       0.258863  \n",
            "2        1.000684  0.000680    1.198355       0.498278  \n",
            "3        1.000684  0.000680    1.991775       0.166093  \n",
            "4        0.999814 -0.000178    0.956820      -0.004298  \n",
            "...           ...       ...         ...            ...  \n",
            "5724775  1.082012  0.060834    1.565334       0.844173  \n",
            "5724776  0.999860 -0.000112    0.999419      -0.032897  \n",
            "5724777  1.002373  0.001900    1.010230       0.203195  \n",
            "5724778  1.001295  0.001038    1.005506       0.145109  \n",
            "5724779  1.001563  0.001253    1.006482       0.379590  \n",
            "\n",
            "[5724780 rows x 10 columns]\n"
          ]
        }
      ]
    },
    {
      "cell_type": "code",
      "source": [
        "from sklearn.neighbors import LocalOutlierFactor\n",
        "\n",
        "lof = LocalOutlierFactor(n_neighbors=20)\n",
        "data['Outlier'] = lof.fit_predict(scaled_data)\n",
        "outliers = data[data['Outlier'] == -1]\n",
        "print(outliers)"
      ],
      "metadata": {
        "colab": {
          "base_uri": "https://localhost:8080/"
        },
        "id": "1kZstQEjdJDJ",
        "outputId": "ef9671aa-4ea4-4d5a-92b3-13ab841f70b7"
      },
      "execution_count": 18,
      "outputs": [
        {
          "output_type": "stream",
          "name": "stderr",
          "text": [
            "/usr/local/lib/python3.10/dist-packages/ipykernel/ipkernel.py:283: DeprecationWarning: `should_run_async` will not call `transform_cell` automatically in the future. Please pass the result to `transformed_cell` argument and any exception that happen during thetransform in `preprocessing_exc_tuple` in IPython 7.17 and above.\n",
            "  and should_run_async(code)\n"
          ]
        },
        {
          "output_type": "stream",
          "name": "stdout",
          "text": [
            "      MSSubClass_20  MSSubClass_30  MSSubClass_40  MSSubClass_45  \\\n",
            "1              True          False          False          False   \n",
            "5             False          False          False          False   \n",
            "15            False          False          False          False   \n",
            "16             True          False          False          False   \n",
            "17             True          False          False          False   \n",
            "...             ...            ...            ...            ...   \n",
            "1441           True          False          False          False   \n",
            "1442           True          False          False          False   \n",
            "1443           True          False          False          False   \n",
            "1444           True          False          False          False   \n",
            "1458          False          False          False          False   \n",
            "\n",
            "      MSSubClass_50  MSSubClass_60  MSSubClass_70  MSSubClass_75  \\\n",
            "1             False          False          False          False   \n",
            "5             False           True          False          False   \n",
            "15            False           True          False          False   \n",
            "16            False          False          False          False   \n",
            "17            False          False          False          False   \n",
            "...             ...            ...            ...            ...   \n",
            "1441          False          False          False          False   \n",
            "1442          False          False          False          False   \n",
            "1443          False          False          False          False   \n",
            "1444          False          False          False          False   \n",
            "1458          False           True          False          False   \n",
            "\n",
            "      MSSubClass_80  MSSubClass_85  ...  SaleType_8  SaleType_9  \\\n",
            "1             False          False  ...        True       False   \n",
            "5             False          False  ...        True       False   \n",
            "15            False          False  ...       False       False   \n",
            "16            False          False  ...       False       False   \n",
            "17            False          False  ...        True       False   \n",
            "...             ...            ...  ...         ...         ...   \n",
            "1441          False          False  ...        True       False   \n",
            "1442          False          False  ...       False       False   \n",
            "1443          False          False  ...       False       False   \n",
            "1444          False          False  ...        True       False   \n",
            "1458          False          False  ...        True       False   \n",
            "\n",
            "      SaleCondition_0  SaleCondition_1  SaleCondition_2  SaleCondition_3  \\\n",
            "1               False            False            False            False   \n",
            "5               False            False            False            False   \n",
            "15              False            False            False            False   \n",
            "16              False            False            False            False   \n",
            "17              False            False            False            False   \n",
            "...               ...              ...              ...              ...   \n",
            "1441            False            False            False            False   \n",
            "1442            False            False            False            False   \n",
            "1443            False            False            False            False   \n",
            "1444            False            False            False            False   \n",
            "1458            False            False            False            False   \n",
            "\n",
            "      SaleCondition_4  SaleCondition_5  Cluster  Outlier  \n",
            "1                True            False        0       -1  \n",
            "5                True            False        0       -1  \n",
            "15              False             True        0       -1  \n",
            "16              False             True        0       -1  \n",
            "17               True            False        0       -1  \n",
            "...               ...              ...      ...      ...  \n",
            "1441             True            False        0       -1  \n",
            "1442            False             True        0       -1  \n",
            "1443            False             True        0       -1  \n",
            "1444             True            False        0       -1  \n",
            "1458             True            False        0       -1  \n",
            "\n",
            "[562 rows x 7641 columns]\n"
          ]
        }
      ]
    }
  ]
}